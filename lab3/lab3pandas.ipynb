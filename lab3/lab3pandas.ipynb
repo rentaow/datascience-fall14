{
 "metadata": {
  "name": ""
 },
 "nbformat": 3,
 "nbformat_minor": 0,
 "worksheets": [
  {
   "cells": [
    {
     "cell_type": "code",
     "collapsed": false,
     "input": [
      "#Rentao Wu\n",
      "import pandas as pd\n",
      "import numpy as np\n",
      "\n",
      "pd.set_option('display.notebook_repr_html', False)\n",
      "pd.set_option('display.max_columns', 20)\n",
      "pd.set_option('display.max_rows', 25)"
     ],
     "language": "python",
     "metadata": {},
     "outputs": [],
     "prompt_number": 1
    },
    {
     "cell_type": "code",
     "collapsed": false,
     "input": [
      "cdystonia = pd.read_csv(\"data/cdystonia.csv\", index_col=None)\n",
      "cdystonia['twstrs'] = cdystonia['twstrs'].astype(np.float64)\n",
      "cdystonia.head()"
     ],
     "language": "python",
     "metadata": {},
     "outputs": [
      {
       "metadata": {},
       "output_type": "pyout",
       "prompt_number": 17,
       "text": [
        "   patient  obs  week  site  id  treat  age sex  twstrs\n",
        "0        1    1     0     1   1  5000U   65   F      32\n",
        "1        1    2     2     1   1  5000U   65   F      30\n",
        "2        1    3     4     1   1  5000U   65   F      24\n",
        "3        1    4     8     1   1  5000U   65   F      37\n",
        "4        1    5    12     1   1  5000U   65   F      39\n",
        "\n",
        "[5 rows x 9 columns]"
       ]
      }
     ],
     "prompt_number": 17
    },
    {
     "cell_type": "code",
     "collapsed": false,
     "input": [
      "#value replacement\n",
      "treat_map = {'Placebo': 0, '5000U': 1, '10000U': 2}\n",
      "cdystonia['treatment'] = cdystonia['treat'].replace(treat_map)\n",
      "cdystonia[:10]"
     ],
     "language": "python",
     "metadata": {},
     "outputs": [
      {
       "metadata": {},
       "output_type": "pyout",
       "prompt_number": 19,
       "text": [
        "   patient  obs  week  site  id   treat  age sex  twstrs  treatment\n",
        "0        1    1     0     1   1   5000U   65   F      32          1\n",
        "1        1    2     2     1   1   5000U   65   F      30          1\n",
        "2        1    3     4     1   1   5000U   65   F      24          1\n",
        "3        1    4     8     1   1   5000U   65   F      37          1\n",
        "4        1    5    12     1   1   5000U   65   F      39          1\n",
        "5        1    6    16     1   1   5000U   65   F      36          1\n",
        "6        2    1     0     1   2  10000U   70   F      60          2\n",
        "7        2    2     2     1   2  10000U   70   F      26          2\n",
        "8        2    3     4     1   2  10000U   70   F      27          2\n",
        "9        2    4     8     1   2  10000U   70   F      41          2\n",
        "\n",
        "[10 rows x 10 columns]"
       ]
      }
     ],
     "prompt_number": 19
    },
    {
     "cell_type": "code",
     "collapsed": false,
     "input": [
      "#value discretization\n",
      "cutOutput = pd.cut(cdystonia['age'],[20,40,60,80,90])\n",
      "cutOutput[:30]"
     ],
     "language": "python",
     "metadata": {},
     "outputs": [
      {
       "metadata": {},
       "output_type": "pyout",
       "prompt_number": 31,
       "text": [
        " (60, 80]\n",
        " (60, 80]\n",
        " (60, 80]\n",
        " (60, 80]\n",
        " (60, 80]\n",
        " (60, 80]\n",
        " (60, 80]\n",
        " (60, 80]\n",
        " (60, 80]\n",
        " (60, 80]\n",
        "...\n",
        " (40, 60]\n",
        " (40, 60]\n",
        " (40, 60]\n",
        " (60, 80]\n",
        " (60, 80]\n",
        " (60, 80]\n",
        " (60, 80]\n",
        " (60, 80]\n",
        " (60, 80]\n",
        " (40, 60]\n",
        " (40, 60]\n",
        "Levels (4): Index(['(20, 40]', '(40, 60]', '(60, 80]', '(80, 90]'], dtype=object)\n",
        "Length: 30"
       ]
      }
     ],
     "prompt_number": 31
    },
    {
     "cell_type": "code",
     "collapsed": false,
     "input": [
      "#value discretization ordinal\n",
      "cdystonia['ageGroup'] = pd.cut(cdystonia['age'],[20,40,60,80,90],\n",
      "                        labels=['young','middle-aged','old','ancient'])\n",
      "cdystonia.head()"
     ],
     "language": "python",
     "metadata": {},
     "outputs": [
      {
       "metadata": {},
       "output_type": "pyout",
       "prompt_number": 40,
       "text": [
        "   patient  obs  week  site  id  treat  age sex  twstrs  treatment ageGroup\n",
        "0        1    1     0     1   1  5000U   65   F      32          1      old\n",
        "1        1    2     2     1   1  5000U   65   F      30          1      old\n",
        "2        1    3     4     1   1  5000U   65   F      24          1      old\n",
        "3        1    4     8     1   1  5000U   65   F      37          1      old\n",
        "4        1    5    12     1   1  5000U   65   F      39          1      old\n",
        "\n",
        "[5 rows x 11 columns]"
       ]
      }
     ],
     "prompt_number": 40
    },
    {
     "cell_type": "code",
     "collapsed": false,
     "input": [
      "#Groupby\n",
      "cdystonia_group = cdystonia.groupby('patient')\n",
      "cdystonia_group.head()"
     ],
     "language": "python",
     "metadata": {},
     "outputs": [
      {
       "metadata": {},
       "output_type": "pyout",
       "prompt_number": 43,
       "text": [
        "            patient  obs  week  site  id    treat  age sex  twstrs  treatment  \\\n",
        "patient                                                                         \n",
        "1       0         1    1     0     1   1    5000U   65   F      32          1   \n",
        "        1         1    2     2     1   1    5000U   65   F      30          1   \n",
        "        2         1    3     4     1   1    5000U   65   F      24          1   \n",
        "        3         1    4     8     1   1    5000U   65   F      37          1   \n",
        "        4         1    5    12     1   1    5000U   65   F      39          1   \n",
        "2       6         2    1     0     1   2   10000U   70   F      60          2   \n",
        "        7         2    2     2     1   2   10000U   70   F      26          2   \n",
        "        8         2    3     4     1   2   10000U   70   F      27          2   \n",
        "        9         2    4     8     1   2   10000U   70   F      41          2   \n",
        "        10        2    5    12     1   2   10000U   70   F      65          2   \n",
        "3       12        3    1     0     1   3    5000U   64   F      44          1   \n",
        "        13        3    2     2     1   3    5000U   64   F      20          1   \n",
        "        14        3    3     4     1   3    5000U   64   F      23          1   \n",
        "        15        3    4     8     1   3    5000U   64   F      26          1   \n",
        "        16        3    5    12     1   3    5000U   64   F      35          1   \n",
        "4       18        4    1     0     1   4  Placebo   59   F      53          0   \n",
        "        19        4    2     2     1   4  Placebo   59   F      61          0   \n",
        "        20        4    3     4     1   4  Placebo   59   F      64          0   \n",
        "        21        4    4     8     1   4  Placebo   59   F      62          0   \n",
        "5       22        5    1     0     1   5   10000U   76   F      53          2   \n",
        "        23        5    2     2     1   5   10000U   76   F      35          2   \n",
        "        24        5    3     4     1   5   10000U   76   F      48          2   \n",
        "        25        5    4     8     1   5   10000U   76   F      49          2   \n",
        "        26        5    5    12     1   5   10000U   76   F      41          2   \n",
        "6       28        6    1     0     1   6   10000U   59   F      49          2   \n",
        "                ...  ...   ...   ... ...      ...  ... ...     ...        ...   \n",
        "\n",
        "               ageGroup  \n",
        "patient                  \n",
        "1       0           old  \n",
        "        1           old  \n",
        "        2           old  \n",
        "        3           old  \n",
        "        4           old  \n",
        "2       6           old  \n",
        "        7           old  \n",
        "        8           old  \n",
        "        9           old  \n",
        "        10          old  \n",
        "3       12          old  \n",
        "        13          old  \n",
        "        14          old  \n",
        "        15          old  \n",
        "        16          old  \n",
        "4       18  middle-aged  \n",
        "        19  middle-aged  \n",
        "        20  middle-aged  \n",
        "        21  middle-aged  \n",
        "5       22          old  \n",
        "        23          old  \n",
        "        24          old  \n",
        "        25          old  \n",
        "        26          old  \n",
        "6       28  middle-aged  \n",
        "                    ...  \n",
        "\n",
        "[537 rows x 11 columns]"
       ]
      }
     ],
     "prompt_number": 43
    },
    {
     "cell_type": "code",
     "collapsed": false,
     "input": [
      "#Aggregation\n",
      "patientMeanTwstrs = cdystonia_group['twstrs'].aggregate(np.mean)\n",
      "patientMeanTwstrs.head()"
     ],
     "language": "python",
     "metadata": {},
     "outputs": [
      {
       "metadata": {},
       "output_type": "pyout",
       "prompt_number": 45,
       "text": [
        "patient\n",
        "1          33.000000\n",
        "2          47.666667\n",
        "3          30.500000\n",
        "4          60.000000\n",
        "5          46.166667\n",
        "Name: twstrs, dtype: float64"
       ]
      }
     ],
     "prompt_number": 45
    },
    {
     "cell_type": "code",
     "collapsed": false,
     "input": [
      "#Trasformation\n",
      "zscore = lambda x: (x - x.mean()) / x.std()\n",
      "normalizedTWSTRS = cdystonia_group['twstrs'].transform(zscore)\n",
      "normalizedTWSTRS.head()"
     ],
     "language": "python",
     "metadata": {},
     "outputs": [
      {
       "metadata": {},
       "output_type": "pyout",
       "prompt_number": 52,
       "text": [
        "0   -0.181369\n",
        "1   -0.544107\n",
        "2   -1.632322\n",
        "3    0.725476\n",
        "4    1.088214\n",
        "Name: twstrs, dtype: float64"
       ]
      }
     ],
     "prompt_number": 52
    },
    {
     "cell_type": "code",
     "collapsed": false,
     "input": [],
     "language": "python",
     "metadata": {},
     "outputs": []
    }
   ],
   "metadata": {}
  }
 ]
}