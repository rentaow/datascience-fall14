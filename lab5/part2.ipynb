{
 "metadata": {
  "name": ""
 },
 "nbformat": 3,
 "nbformat_minor": 0,
 "worksheets": [
  {
   "cells": [
    {
     "cell_type": "code",
     "collapsed": false,
     "input": [
      "import nltk\n",
      "#nltk.download()"
     ],
     "language": "python",
     "metadata": {},
     "outputs": [],
     "prompt_number": 6
    },
    {
     "cell_type": "code",
     "collapsed": false,
     "input": [
      "#2.1\n",
      "def traverse(t):\n",
      "    try:\n",
      "        t.label()\n",
      "    except AttributeError:\n",
      "        pass\n",
      "    else:     \n",
      "        if t.label() == 'S':           \n",
      "            for child in t:\n",
      "                traverse(child)\n",
      "            \n",
      "        elif t.label() == 'PERSON':         \n",
      "            l = t.leaves() \n",
      "            print l[0][0], 'PERSON'\n",
      "            for child in t:\n",
      "                traverse(child)\n",
      "        \n",
      "        elif t.label() == 'ORGANIZATION':         \n",
      "            l = t.leaves() \n",
      "            print l[0][0], 'ORGANIZATION'\n",
      "            for child in t:\n",
      "                traverse(child)\n",
      "        \n",
      "        elif t.label() == 'GPE':         \n",
      "            l = t.leaves() \n",
      "            print l[0][0], 'GPE'\n",
      "            for child in t:\n",
      "                traverse(child)\n",
      "\n",
      "with open(\"news1.html\", \"r\") as input1:\n",
      "    data = input1.read()   \n",
      "sentences = nltk.sent_tokenize(data)\n",
      "sentences = [nltk.word_tokenize(sent) for sent in sentences]\n",
      "sentences = [nltk.pos_tag(sent) for sent in sentences]\n",
      "\n",
      "for sent in sentences:\n",
      "    s = nltk.ne_chunk(sent)\n",
      "    traverse(s)"
     ],
     "language": "python",
     "metadata": {},
     "outputs": [
      {
       "output_type": "stream",
       "stream": "stdout",
       "text": [
        "Ebola PERSON\n",
        "Published PERSON\n",
        "Facebook PERSON\n",
        "Dallas PERSON\n",
        "Centers ORGANIZATION\n",
        "Disease PERSON\n",
        "Ebola ORGANIZATION\n",
        "Fox PERSON\n",
        "Dallas PERSON\n",
        "Vinson PERSON\n",
        "Ebola ORGANIZATION\n",
        "Thomas PERSON\n",
        "Texas ORGANIZATION\n",
        "ADVERTISEMENT ORGANIZATION\n",
        "Vinson PERSON\n",
        "Vinson PERSON\n",
        "Nina PERSON\n",
        "Duncan"
       ]
      },
      {
       "output_type": "stream",
       "stream": "stdout",
       "text": [
        " GPE\n",
        "CDC ORGANIZATION\n",
        "Duncan GPE\n",
        "CDC ORGANIZATION\n",
        "Vinson PERSON\n",
        "Cleveland GPE\n",
        "Dallas GPE\n",
        "Frontier ORGANIZATION\n",
        "Ebola ORGANIZATION\n",
        "Vinson"
       ]
      },
      {
       "output_type": "stream",
       "stream": "stdout",
       "text": [
        " PERSON\n",
        "CDC ORGANIZATION\n",
        "David PERSON\n",
        "Vinson PERSON\n",
        "Ebola PERSON\n",
        "CDC ORGANIZATION\n",
        "Thomas PERSON\n",
        "Vinson"
       ]
      },
      {
       "output_type": "stream",
       "stream": "stdout",
       "text": [
        " PERSON\n",
        "Ohio GPE\n",
        "Frieden PERSON\n",
        "Duncan GPE\n",
        "CDC"
       ]
      },
      {
       "output_type": "stream",
       "stream": "stdout",
       "text": [
        " ORGANIZATION\n",
        "Frontier GPE\n",
        "Cleveland"
       ]
      },
      {
       "output_type": "stream",
       "stream": "stdout",
       "text": [
        " GPE\n",
        "Denver GPE\n",
        "Central ORGANIZATION\n",
        "Vinson PERSON\n",
        "Frontier"
       ]
      },
      {
       "output_type": "stream",
       "stream": "stdout",
       "text": [
        " PERSON\n",
        "CDC ORGANIZATION\n",
        "CDC ORGANIZATION\n",
        "Ebola GPE\n",
        "Texas"
       ]
      },
      {
       "output_type": "stream",
       "stream": "stdout",
       "text": [
        " PERSON\n",
        "Frieden"
       ]
      },
      {
       "output_type": "stream",
       "stream": "stdout",
       "text": [
        " PERSON\n",
        "House ORGANIZATION\n",
        "Commerce ORGANIZATION\n",
        "Anthony"
       ]
      },
      {
       "output_type": "stream",
       "stream": "stdout",
       "text": [
        " PERSON\n",
        "National ORGANIZATION\n",
        "Allergy GPE\n",
        "Infectious ORGANIZATION\n",
        "National ORGANIZATION\n",
        "Health GPE\n",
        "Duncan PERSON\n",
        "Dallas GPE\n",
        "Spain GPE\n",
        "Ebola"
       ]
      },
      {
       "output_type": "stream",
       "stream": "stdout",
       "text": [
        " PERSON\n",
        "Medical GPE\n",
        "Associated ORGANIZATION\n",
        "Duncan PERSON\n",
        "Vinson PERSON\n",
        "Atlanta"
       ]
      },
      {
       "output_type": "stream",
       "stream": "stdout",
       "text": [
        " GPE\n",
        "Emory ORGANIZATION\n",
        "Obama"
       ]
      },
      {
       "output_type": "stream",
       "stream": "stdout",
       "text": [
        " PERSON\n",
        "U.S. GPE\n",
        "United GPE\n",
        "SWAT"
       ]
      },
      {
       "output_type": "stream",
       "stream": "stdout",
       "text": [
        " ORGANIZATION\n",
        "CDC ORGANIZATION\n",
        "Obama PERSON\n",
        "Ebola ORGANIZATION\n",
        "Ebola"
       ]
      },
      {
       "output_type": "stream",
       "stream": "stdout",
       "text": [
        " GPE\n",
        "Emory ORGANIZATION\n",
        "Atlanta GPE\n",
        "Vinson PERSON\n",
        "David"
       ]
      },
      {
       "output_type": "stream",
       "stream": "stdout",
       "text": [
        " PERSON\n",
        "Associated ORGANIZATION\n"
       ]
      }
     ],
     "prompt_number": 45
    },
    {
     "cell_type": "code",
     "collapsed": false,
     "input": [
      "#2.2\n",
      "import re\n",
      "comp = re.compile(r'.*\\b.*\\s(?:for|at|in|from).*\\b(?!\\b.+ing)')\n",
      "for doc in nltk.corpus.ieer.parsed_docs('NYT_19980315'):\n",
      "    for rel in nltk.sem.extract_rels('PER', 'ORG', doc, corpus='ieer', pattern = comp):\n",
      "        print(nltk.sem.rtuple(rel))"
     ],
     "language": "python",
     "metadata": {},
     "outputs": [
      {
       "output_type": "stream",
       "stream": "stdout",
       "text": [
        "[PER: u'Mike Godwin'] u', chief counsel for the' [ORG: u'Electronic Frontier Foundation']\n",
        "[PER: u'Cohn'] u', a partner in the' [ORG: u'McGlashan &AMP; Sarrail']\n",
        "[PER: u'Jack Balkin'] u\", director of the school's program. ``What happened at\" [ORG: u'Yale']\n",
        "[PER: u'Jones'] u'will introduce' [ORG: u'Qradio']\n",
        "[PER: u'Jones'] u', said the seed that germinated into' [ORG: u'Qradio']\n",
        "[PER: u'William Gale'] u', an economist at the' [ORG: u'Brookings Institution']"
       ]
      },
      {
       "output_type": "stream",
       "stream": "stdout",
       "text": [
        "\n",
        "[PER: u'Joel Slemrod'] u', an economist at the' [ORG: u'University of Michigan']\n",
        "[PER: u'Alan Braverman'] u', Internet analyst at' [ORG: u'Credit Suisse First Boston']\n",
        "[PER: u'Abe Kleinfield'] u', a vice president at' [ORG: u'Open Text']\n",
        "[PER: u'Braverman'] u'said. Success today comes from branding and distribution, and' [ORG: u'Yahoo']\n",
        "[PER: u'Rick Yorn'] u', his manager at the firm' [ORG: u'Addis-Wechsler &AMP; Associates']"
       ]
      },
      {
       "output_type": "stream",
       "stream": "stdout",
       "text": [
        "\n",
        "[PER: u'Tom Rothman'] u', president of production at' [ORG: u'20th Century Fox']\n",
        "[PER: u'Charlotte Forest'] u', executive producer for' [ORG: u'Homestead Editorial']\n",
        "[PER: u'Richard Strauss'] u\"' ``Salome'' at\" [ORG: u'La Scala']\n",
        "[PER: u'John Wren'] u', the president and chief executive at' [ORG: u'Omnicom']"
       ]
      },
      {
       "output_type": "stream",
       "stream": "stdout",
       "text": [
        "\n",
        "[PER: u'Lawrence'] u'withdrew from active involvement, and financial problems began to impede' [ORG: u'Wells']\n",
        "[PER: u'Linda Kaplan Thaler'] u', who worked at' [ORG: u'Wells']\n",
        "[PER: u'Kaplan Thaler'] u'had worked for' [ORG: u\"Toys ``R'' Us\"]\n",
        "[PER: u'Ken Haldin'] u', a spokesman for' [ORG: u'Georgia-Pacific']\n"
       ]
      }
     ],
     "prompt_number": 46
    },
    {
     "cell_type": "code",
     "collapsed": false,
     "input": [],
     "language": "python",
     "metadata": {},
     "outputs": []
    }
   ],
   "metadata": {}
  }
 ]
}