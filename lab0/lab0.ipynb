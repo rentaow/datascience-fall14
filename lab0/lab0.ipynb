{
 "metadata": {
  "name": "lab0"
 },
 "nbformat": 3,
 "nbformat_minor": 0,
 "worksheets": [
  {
   "cells": [
    {
     "cell_type": "code",
     "collapsed": false,
     "input": "%matplotlib inline\n\nimport matplotlib.pyplot as plt\nimport numpy as np\nimport pandas as pd",
     "language": "python",
     "metadata": {},
     "outputs": [],
     "prompt_number": 2
    },
    {
     "cell_type": "code",
     "collapsed": false,
     "input": "import os\nos.getcwd()",
     "language": "python",
     "metadata": {},
     "outputs": [
      {
       "metadata": {},
       "output_type": "pyout",
       "prompt_number": 4,
       "text": "'/home/terrapin'"
      }
     ],
     "prompt_number": 4
    },
    {
     "cell_type": "code",
     "collapsed": false,
     "input": "os.chdir('datascience-fall14')",
     "language": "python",
     "metadata": {},
     "outputs": [],
     "prompt_number": 5
    },
    {
     "cell_type": "code",
     "collapsed": false,
     "input": "os.chdir('data')",
     "language": "python",
     "metadata": {},
     "outputs": [],
     "prompt_number": 6
    },
    {
     "cell_type": "code",
     "collapsed": false,
     "input": "os.getcwd()",
     "language": "python",
     "metadata": {},
     "outputs": [
      {
       "metadata": {},
       "output_type": "pyout",
       "prompt_number": 7,
       "text": "'/home/terrapin/datascience-fall14/data'"
      }
     ],
     "prompt_number": 7
    },
    {
     "cell_type": "code",
     "collapsed": false,
     "input": "data = pd.read_csv('Capital-Bike-Share-June-30-2014.csv', parse_dates = ['Start date', 'End date'])",
     "language": "python",
     "metadata": {},
     "outputs": [],
     "prompt_number": 8
    },
    {
     "cell_type": "code",
     "collapsed": false,
     "input": "data[:5]",
     "language": "python",
     "metadata": {},
     "outputs": [
      {
       "html": "<div style=\"max-height:1000px;max-width:1500px;overflow:auto;\">\n<table border=\"1\" class=\"dataframe\">\n  <thead>\n    <tr style=\"text-align: right;\">\n      <th></th>\n      <th>Duration</th>\n      <th>Start date</th>\n      <th>Start Station</th>\n      <th>Start terminal</th>\n      <th>End date</th>\n      <th>End Station</th>\n      <th>End terminal</th>\n      <th>Bike#</th>\n      <th>Subscriber Type</th>\n    </tr>\n  </thead>\n  <tbody>\n    <tr>\n      <th>0</th>\n      <td>  0h 7m 51s</td>\n      <td>2014-06-30 00:00:00</td>\n      <td>          37th &amp; O St NW / Georgetown University</td>\n      <td> 31236</td>\n      <td>2014-06-30 00:08:00</td>\n      <td> Rosslyn Metro / Wilson Blvd &amp; Ft Myer Dr</td>\n      <td> 31015</td>\n      <td> W00584</td>\n      <td> Registered</td>\n    </tr>\n    <tr>\n      <th>1</th>\n      <td> 12h 2m 56s</td>\n      <td>2014-06-30 00:00:00</td>\n      <td>                     Columbia Rd &amp; Belmont St NW</td>\n      <td> 31113</td>\n      <td>2014-06-30 12:03:00</td>\n      <td>                  Lamont &amp; Mt Pleasant NW</td>\n      <td> 31107</td>\n      <td> W01497</td>\n      <td> Registered</td>\n    </tr>\n    <tr>\n      <th>2</th>\n      <td> 0h 12m 51s</td>\n      <td>2014-06-30 00:01:00</td>\n      <td>                           17th &amp; Corcoran St NW</td>\n      <td> 31214</td>\n      <td>2014-06-30 00:14:00</td>\n      <td>                  Park Rd &amp; Holmead Pl NW</td>\n      <td> 31602</td>\n      <td> W01099</td>\n      <td> Registered</td>\n    </tr>\n    <tr>\n      <th>3</th>\n      <td> 0h 11m 46s</td>\n      <td>2014-06-30 00:01:00</td>\n      <td> Connecticut Ave &amp; Newark St NW / Cleveland Park</td>\n      <td> 31305</td>\n      <td>2014-06-30 00:12:00</td>\n      <td>               14th &amp; Rhode Island Ave NW</td>\n      <td> 31203</td>\n      <td> W21642</td>\n      <td> Registered</td>\n    </tr>\n    <tr>\n      <th>4</th>\n      <td>  0h 17m 5s</td>\n      <td>2014-06-30 00:01:00</td>\n      <td>                                   Thomas Circle</td>\n      <td> 31241</td>\n      <td>2014-06-30 00:18:00</td>\n      <td>                            7th &amp; T St NW</td>\n      <td> 31109</td>\n      <td> W00334</td>\n      <td> Registered</td>\n    </tr>\n  </tbody>\n</table>\n<p>5 rows \u00d7 9 columns</p>\n</div>",
       "metadata": {},
       "output_type": "pyout",
       "prompt_number": 9,
       "text": "     Duration          Start date  \\\n0   0h 7m 51s 2014-06-30 00:00:00   \n1  12h 2m 56s 2014-06-30 00:00:00   \n2  0h 12m 51s 2014-06-30 00:01:00   \n3  0h 11m 46s 2014-06-30 00:01:00   \n4   0h 17m 5s 2014-06-30 00:01:00   \n\n                                     Start Station  Start terminal  \\\n0           37th & O St NW / Georgetown University           31236   \n1                      Columbia Rd & Belmont St NW           31113   \n2                            17th & Corcoran St NW           31214   \n3  Connecticut Ave & Newark St NW / Cleveland Park           31305   \n4                                    Thomas Circle           31241   \n\n             End date                               End Station  End terminal  \\\n0 2014-06-30 00:08:00  Rosslyn Metro / Wilson Blvd & Ft Myer Dr         31015   \n1 2014-06-30 12:03:00                   Lamont & Mt Pleasant NW         31107   \n2 2014-06-30 00:14:00                   Park Rd & Holmead Pl NW         31602   \n3 2014-06-30 00:12:00                14th & Rhode Island Ave NW         31203   \n4 2014-06-30 00:18:00                             7th & T St NW         31109   \n\n    Bike# Subscriber Type  \n0  W00584      Registered  \n1  W01497      Registered  \n2  W01099      Registered  \n3  W21642      Registered  \n4  W00334      Registered  \n\n[5 rows x 9 columns]"
      }
     ],
     "prompt_number": 9
    },
    {
     "cell_type": "code",
     "collapsed": false,
     "input": "data.dtypes",
     "language": "python",
     "metadata": {},
     "outputs": [
      {
       "metadata": {},
       "output_type": "pyout",
       "prompt_number": 10,
       "text": "Duration                   object\nStart date         datetime64[ns]\nStart Station              object\nStart terminal              int64\nEnd date           datetime64[ns]\nEnd Station                object\nEnd terminal              float64\nBike#                      object\nSubscriber Type            object\ndtype: object"
      }
     ],
     "prompt_number": 10
    },
    {
     "cell_type": "code",
     "collapsed": false,
     "input": "plt.plot(data['Start date'], range(10604))",
     "language": "python",
     "metadata": {},
     "outputs": [
      {
       "metadata": {},
       "output_type": "pyout",
       "prompt_number": 14,
       "text": "[<matplotlib.lines.Line2D at 0xb0d768ac>]"
      },
      {
       "metadata": {},
       "output_type": "display_data",
       "png": "[encoded data removed]",
       "text": "<matplotlib.figure.Figure at 0xb06dc24c>"
      }
     ],
     "prompt_number": 14
    },
    {
     "cell_type": "code",
     "collapsed": false,
     "input": "",
     "language": "python",
     "metadata": {},
     "outputs": []
    }
   ],
   "metadata": {}
  }
 ]
}