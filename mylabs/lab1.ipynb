{
 "metadata": {
  "name": ""
 },
 "nbformat": 3,
 "nbformat_minor": 0,
 "worksheets": [
  {
   "cells": [
    {
     "cell_type": "code",
     "collapsed": false,
     "input": [
      "#Rentao Wu\n",
      "import numpy as np\n",
      "%pylab inline\n",
      "import matplotlib.pyplot as plt"
     ],
     "language": "python",
     "metadata": {},
     "outputs": [
      {
       "output_type": "stream",
       "stream": "stdout",
       "text": [
        "Populating the interactive namespace from numpy and matplotlib\n"
       ]
      }
     ],
     "prompt_number": 30
    },
    {
     "cell_type": "code",
     "collapsed": false,
     "input": [
      "from sklearn.datasets import load_boston\n",
      "bos = load_boston()"
     ],
     "language": "python",
     "metadata": {},
     "outputs": [],
     "prompt_number": 31
    },
    {
     "cell_type": "code",
     "collapsed": false,
     "input": [
      "nsamples, nfeatures = bos.data.shape\n",
      "print 'Number of samples = ', nsamples\n",
      "print 'Number of features = ', nfeatures"
     ],
     "language": "python",
     "metadata": {},
     "outputs": [
      {
       "output_type": "stream",
       "stream": "stdout",
       "text": [
        "Number of samples =  506\n",
        "Number of features =  13\n"
       ]
      }
     ],
     "prompt_number": 33
    },
    {
     "cell_type": "code",
     "collapsed": false,
     "input": [
      "print bos.feature_names[:5]"
     ],
     "language": "python",
     "metadata": {},
     "outputs": [
      {
       "output_type": "stream",
       "stream": "stdout",
       "text": [
        "['CRIM' 'ZN' 'INDUS' 'CHAS' 'NOX']\n"
       ]
      }
     ],
     "prompt_number": 34
    },
    {
     "cell_type": "code",
     "collapsed": false,
     "input": [
      "print '- CRIM     per capita crime rate by town\\n- ZN       proportion of residential land zoned for lots over 25,000 sq.ft.\\n- INDUS    proportion of non-retail business acres per town\\n- CHAS     Charles River dummy variable (= 1 if tract bounds river; 0 otherwise)\\n- NOX      nitric oxides concentration (parts per 10 million)\\n'"
     ],
     "language": "python",
     "metadata": {},
     "outputs": [
      {
       "output_type": "stream",
       "stream": "stdout",
       "text": [
        "- CRIM     per capita crime rate by town\n",
        "- ZN       proportion of residential land zoned for lots over 25,000 sq.ft.\n",
        "- INDUS    proportion of non-retail business acres per town\n",
        "- CHAS     Charles River dummy variable (= 1 if tract bounds river; 0 otherwise)\n",
        "- NOX      nitric oxides concentration (parts per 10 million)\n",
        "\n"
       ]
      }
     ],
     "prompt_number": 35
    },
    {
     "cell_type": "code",
     "collapsed": false,
     "input": [
      "crime = bos.data[:, 0]\n",
      "price = bos.target\n",
      "plt.xlabel('Crime')\n",
      "plt.ylabel('Price')\n",
      "plt.title('Crime rate vs house price')\n",
      "plt.scatter(crime, price)"
     ],
     "language": "python",
     "metadata": {},
     "outputs": [
      {
       "metadata": {},
       "output_type": "pyout",
       "prompt_number": 36,
       "text": [
        "<matplotlib.collections.PathCollection at 0xafd5ce0c>"
       ]
      },
      {
       "metadata": {},
       "output_type": "display_data",
       "png": "[encoded data removed]",
       "text": [
        "<matplotlib.figure.Figure at 0xafdb4c0c>"
       ]
      }
     ],
     "prompt_number": 36
    },
    {
     "cell_type": "code",
     "collapsed": false,
     "input": [
      "#Exercise 2 - linear reg w/ diabetes data\n",
      "from sklearn.linear_model import LinearRegression\n",
      "from sklearn.datasets import load_diabetes\n",
      "diabetes = load_diabetes()"
     ],
     "language": "python",
     "metadata": {},
     "outputs": [],
     "prompt_number": 37
    },
    {
     "cell_type": "code",
     "collapsed": false,
     "input": [
      "#2.1\n",
      "diab_x_train = diabetes.data[:-20]\n",
      "diab_x_test = diabetes.data[-20:]\n",
      "\n",
      "diab_y_train = diabetes.target[:-20]\n",
      "diab_y_test = diabetes.target[-20:]\n",
      "\n",
      "regr = LinearRegression()\n",
      "\n",
      "regr.fit(diab_x_train, diab_y_train)\n",
      "\n",
      "print(\"residual sum of squares: %.2f\" % np.mean((regr.predict(diab_x_test) -diab_y_test) **2))\n",
      "\n",
      "#2004.57 is smaller, it is a better estimator"
     ],
     "language": "python",
     "metadata": {},
     "outputs": [
      {
       "output_type": "stream",
       "stream": "stdout",
       "text": [
        "residual sum of squares: 2004.57\n"
       ]
      }
     ],
     "prompt_number": 97
    },
    {
     "cell_type": "code",
     "collapsed": false,
     "input": [
      "#2.2\n",
      "from sklearn.feature_selection import RFE\n",
      "\n",
      "arr = []\n",
      "n = 10\n",
      "estimator = 2004.57\n",
      "for x in range(1, 10):\n",
      "    rfe = RFE(estimator=regr, n_features_to_select=x, step=1)\n",
      "    rfe.fit(diab_x_train,diab_y_train)\n",
      "    m = np.mean((rfe.predict(diab_x_test) - diab_y_test) ** 2)\n",
      "    arr.append(m)\n",
      "    if m < estimator:\n",
      "        estimator = m\n",
      "        n = x\n",
      "print \"optimal number of features: %d\" %n\n",
      "print\n",
      "\n",
      "plt.plot(range(1,10), arr)\n",
      "plt.title(\"mean squared error vs #features (Diabetes data)\")\n",
      "plt.ylabel(\"mean sqrd error\")\n",
      "plt.xlabel(\"# of features\")"
     ],
     "language": "python",
     "metadata": {},
     "outputs": [
      {
       "output_type": "stream",
       "stream": "stdout",
       "text": [
        "optimal number of features: 3\n",
        "\n"
       ]
      },
      {
       "metadata": {},
       "output_type": "pyout",
       "prompt_number": 43,
       "text": [
        "<matplotlib.text.Text at 0xafdb4f4c>"
       ]
      },
      {
       "metadata": {},
       "output_type": "display_data",
       "png": "[encoded data removed]",
       "text": [
        "<matplotlib.figure.Figure at 0xafc59b6c>"
       ]
      }
     ],
     "prompt_number": 43
    },
    {
     "cell_type": "code",
     "collapsed": false,
     "input": [
      "# 3.1 Boston houses linear regression\n",
      "\n",
      "bosx8020train = bos.data[:-101]\n",
      "bosx8020test = bos.data[-101:]\n",
      "bosy8020train = bos.target[:-101]\n",
      "bosy8020test = bos.target[-101:]\n",
      "\n",
      "bosx6040train = bos.data[:-202]\n",
      "bosx6040test = bos.data[-202:]\n",
      "bosy6040train = bos.target[:-202]\n",
      "bosy6040test = bos.target[-202:]\n",
      "\n",
      "bosx4060train = bos.data[:202]\n",
      "bosx4060test = bos.data[202:]\n",
      "bosy4060train = bos.target[:202]\n",
      "bosy4060test = bos.target[202:]\n",
      "\n",
      "bosx2080train = bos.data[:101]\n",
      "bosx2080test = bos.data[101:]\n",
      "bosy2080train = bos.target[:101]\n",
      "bosy2080test = bos.target[101:]\n",
      "\n",
      "regr = LinearRegression()\n",
      "regr.fit(bosx8020train, bosy8020train)\n",
      "et = np.mean((regr.predict(bosx8020test) - bosy8020test) **2)\n",
      "\n",
      "regr.fit(bosx6040train, bosy6040train)\n",
      "sf = np.mean((regr.predict(bosx6040test) - bosy6040test) **2)\n",
      "\n",
      "regr.fit(bosx4060train, bosy4060train)\n",
      "fs = np.mean((regr.predict(bosx4060test) - bosy4060test) **2)\n",
      "\n",
      "regr.fit(bosx2080train, bosy2080train)\n",
      "te = np.mean((regr.predict(bosx2080test) - bosy2080test) **2)\n",
      "\n",
      "trainp = ('20%', '40%', '60%', '80%')\n",
      "x_pos = np.arange(len(trainp))\n",
      "meanresult = [te, fs,sf, et]\n",
      "\n",
      "plt.bar((x_pos), meanresult)\n",
      "plt.xticks(x_pos, trainp)\n",
      "plt.xlabel('Training percentage')\n",
      "plt.ylabel('mean sqrd error')\n",
      "plt.title('Mean squared error of various training %')\n",
      "\n",
      "plt.show()"
     ],
     "language": "python",
     "metadata": {},
     "outputs": [
      {
       "metadata": {},
       "output_type": "display_data",
       "png": "[encoded data removed]",
       "text": [
        "<matplotlib.figure.Figure at 0xafe4016c>"
       ]
      }
     ],
     "prompt_number": 44
    },
    {
     "cell_type": "code",
     "collapsed": false,
     "input": [
      "# 3.2 using 80% train 20% test\n",
      "\n",
      "arr = []\n",
      "n, estimator\n",
      "\n",
      "for x in range(1, 14):\n",
      "    rfe = RFE(estimator=regr, n_features_to_select=x, step=1)\n",
      "    rfe.fit(bosx8020train,bosy8020train)\n",
      "    m = np.mean((rfe.predict(bosx8020test) - bosy8020test) ** 2)\n",
      "    arr.append(m)\n",
      "    if x == 1 or m < estimator:\n",
      "        estimator = m\n",
      "        n = x\n",
      "        \n",
      "print \"optimal number of features: %d\" %n\n",
      "rfe = RFE(estimator=regr, n_features_to_select=6, step=1)\n",
      "rfe.fit(bosx8020train,bosy8020train)\n",
      "print rfe.ranking_\n",
      "print \"feature set: CHAS, NOX, RM, DIS, PTRATIO, LSTAT\"\n",
      "print\n",
      "\n",
      "plt.plot(range(1,14), arr)\n",
      "plt.title(\"mean squared error vs # of features (Boston houses)\")\n",
      "plt.xlabel(\"# of features\")\n",
      "plt.ylabel(\"mean sqrd error\")"
     ],
     "language": "python",
     "metadata": {},
     "outputs": [
      {
       "output_type": "stream",
       "stream": "stdout",
       "text": [
        "optimal number of features: 6\n",
        "[3 4 5 1 1 1 7 1 2 6 1 8 1]\n",
        "feature set: CHAS, NOX, RM, DIS, PTRATIO, LSTAT\n",
        "\n"
       ]
      },
      {
       "metadata": {},
       "output_type": "pyout",
       "prompt_number": 26,
       "text": [
        "<matplotlib.text.Text at 0xaff6cc6c>"
       ]
      },
      {
       "metadata": {},
       "output_type": "display_data",
       "png": "[encoded data removed]",
       "text": [
        "<matplotlib.figure.Figure at 0xaffb764c>"
       ]
      }
     ],
     "prompt_number": 26
    },
    {
     "cell_type": "code",
     "collapsed": false,
     "input": [
      "#4.1 \n",
      "from sklearn.datasets import load_iris\n",
      "from sklearn import svm\n",
      "iris = load_iris()\n",
      "\n",
      "#linear SVM\n",
      "#split dataset into training and testing\n",
      "irisxtrain = iris.data[:-30]\n",
      "irisxtest = iris.data[-30:]\n",
      "irisytrain = iris.target[:-30]\n",
      "irisytest = iris.target[-30:]\n",
      "\n",
      "clf_linear = svm.SVC(kernel='linear')\n",
      "clf_linear.fit(irisxtrain, irisytrain)\n",
      "\n",
      "pred = clf_linear.predict(irisxtest)\n",
      "\n",
      "#predicting error for test data\n",
      "errors = 0.0\n",
      "for i in range(len(pred)):\n",
      "    if pred[i] != irisytest[i]:\n",
      "        errors += 1.0\n",
      "print \"test data errors = \",errors, \"out of \", len(pred), \"predictions\"\n",
      "\n",
      "#predicting error for all points\n",
      "total_pred = clf_linear.predict(iris.data)\n",
      "errors = 0.0\n",
      "for i in range(len(total_pred)):\n",
      "    if total_pred[i] != iris.target[i]:\n",
      "        errors += 1.0\n",
      "print \"total errors = \",errors, \"out of \", len(total_pred), \"predictions\""
     ],
     "language": "python",
     "metadata": {},
     "outputs": [
      {
       "output_type": "stream",
       "stream": "stdout",
       "text": [
        "test data errors =  4.0 out of  30 predictions\n",
        "total errors =  5.0 out of  150 predictions\n"
       ]
      }
     ],
     "prompt_number": 62
    },
    {
     "cell_type": "code",
     "collapsed": false,
     "input": [
      "#non linear SVM\n",
      "\n",
      "clfnonlin = svm.SVC(kernel='rbf')\n",
      "clfnonlin.fit(irisxtrain, irisytrain)\n",
      "\n",
      "prednls = clfnonlin.predict(irisxtest)\n",
      "\n",
      "#predicting error for test data\n",
      "errors = 0.0\n",
      "for i in range(len(prednls)):\n",
      "    if prednls[i] != irisytest[i]:\n",
      "        errors += 1.0\n",
      "print \"test data errors = \",errors, \"out of \", len(prednls), \"predictions\"\n",
      "\n",
      "#predicting error for all points\n",
      "total_prednls = clfnonlin.predict(iris.data)\n",
      "errors = 0.0\n",
      "for i in range(len(total_prednls)):\n",
      "    if total_prednls[i] != iris.target[i]:\n",
      "        errors += 1.0\n",
      "print \"total errors = \",errors, \"out of \", len(total_prednls), \"predictions\""
     ],
     "language": "python",
     "metadata": {},
     "outputs": [
      {
       "output_type": "stream",
       "stream": "stdout",
       "text": [
        "test data errors =  5.0 out of  30 predictions\n",
        "total errors =  8.0 out of  150 predictions\n"
       ]
      }
     ],
     "prompt_number": 85
    },
    {
     "cell_type": "code",
     "collapsed": false,
     "input": [
      "#4.2 Decision tree classifier\n",
      "from sklearn.tree import DecisionTreeClassifier\n",
      "\n",
      "treeclf = DecisionTreeClassifier()\n",
      "treeclf.fit(irisxtrain, irisytrain)\n",
      "\n",
      "predtree = treeclf.predict(iris.data)\n",
      "\n",
      "errors = 0.0\n",
      "for i in range(len(predtree)):\n",
      "    if predtree[i] != iris.target[i]:\n",
      "        errors+=1.0\n",
      "print \"test data errors = \", errors, \"out of \", len(predtree), \"predictions\""
     ],
     "language": "python",
     "metadata": {},
     "outputs": [
      {
       "output_type": "stream",
       "stream": "stdout",
       "text": [
        "test data errors =  8.0 out of  150 predictions\n"
       ]
      }
     ],
     "prompt_number": 86
    },
    {
     "cell_type": "code",
     "collapsed": false,
     "input": [
      "#5 Kmeans performance vs nonlinear SVM & decision tree\n",
      "from sklearn.cluster import KMeans\n",
      "from sklearn import metrics\n",
      "\n",
      "kmeans = KMeans(n_clusters=3)\n",
      "kmeans.fit(iris.data)\n",
      "\n",
      "print \"K means:\"\n",
      "print \"Homogeneity score = \", metrics.homogeneity_score(iris.target,kmeans.labels_)\n",
      "print \"Completeness score = \", metrics.completeness_score(iris.target,kmeans.labels_)\n",
      "print\n",
      "print \"Non linear SVM:\"\n",
      "print \"Homogeneity score = \", metrics.homogeneity_score(iris.target, total_prednls)\n",
      "print \"Completeness score = \", metrics.completeness_score(iris.target, total_prednls)\n",
      "print\n",
      "print \"Decision tree:\"\n",
      "print \"Homogeneity score = \", metrics.homogeneity_score(iris.target, predtree)\n",
      "print \"Completeness score = \", metrics.completeness_score(iris.target, predtree)"
     ],
     "language": "python",
     "metadata": {},
     "outputs": [
      {
       "output_type": "stream",
       "stream": "stdout",
       "text": [
        "K means:\n",
        "Homogeneity score =  0.751485402199\n",
        "Completeness score =  0.764986151449\n",
        "\n",
        "Non linear SVM:\n",
        "Homogeneity score =  0.843002739518\n",
        "Completeness score =  0.846711075879\n",
        "\n",
        "Decision tree:\n",
        "Homogeneity score =  0.858797550043\n",
        "Completeness score =  0.865549580821\n"
       ]
      }
     ],
     "prompt_number": 96
    },
    {
     "cell_type": "code",
     "collapsed": false,
     "input": [],
     "language": "python",
     "metadata": {},
     "outputs": []
    }
   ],
   "metadata": {}
  }
 ]
}